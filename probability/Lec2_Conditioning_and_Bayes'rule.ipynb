{
 "cells": [
  {
   "cell_type": "markdown",
   "metadata": {},
   "source": [
    "# Lec. 2: Conditioning and Bayes' rule"
   ]
  },
  {
   "cell_type": "markdown",
   "metadata": {},
   "source": [
    "### 13. Exercise: Bayes' rule and the false-positive puzzle"
   ]
  },
  {
   "cell_type": "markdown",
   "metadata": {},
   "source": [
    "A test for a certain rare disease is assumed to be correct  95%  of the time: if a person has the disease, the test result is positive with probability  0.95 , and if the person does not have the disease, the test result is negative with probability  0.95 . A person drawn at random from a certain population has probability  0.001  of having the disease.\n",
    "1. Find the probability that a random person tests positive. (This answer will require an accuracy of 4 decimal places.)\n",
    "2. Given that the person just tested positive, what is the probability he actually has the disease?"
   ]
  },
  {
   "cell_type": "markdown",
   "metadata": {},
   "source": [
    "<p>S:= Event of having the disease </p>\n",
    "<p>P:= Event of being positive in the test </p>\n",
    "\n",
    "**Using the total probability theorem**\n",
    "$$ \n",
    "P(P) = P(S)P(P|S) + P(S^{c})P(P|S^{c})  \n",
    "$$"
   ]
  },
  {
   "cell_type": "code",
   "execution_count": 13,
   "metadata": {},
   "outputs": [
    {
     "data": {
      "text/plain": [
       "'P(P)= 0.0509'"
      ]
     },
     "metadata": {},
     "output_type": "display_data"
    }
   ],
   "source": [
    "P_S = 0.001\n",
    "P_PGivenS = 0.95 \n",
    "P_SC = (1-P_S)\n",
    "P_PGivenSC = 0.05 \n",
    "\n",
    "P_P = P_S*P_PGivenS + P_SC*P_PGivenSC\n",
    "display(\"P(P)= \" + str(P_P))"
   ]
  },
  {
   "cell_type": "markdown",
   "metadata": {},
   "source": [
    "**Using the Bayes theorem**\n",
    "$$\n",
    "P(S|P) = \\frac{ P(S)P(P|S) }{ P(P) }\n",
    "$$"
   ]
  },
  {
   "cell_type": "code",
   "execution_count": 15,
   "metadata": {},
   "outputs": [
    {
     "data": {
      "text/plain": [
       "'P(S|P)= 0.018664047151277015'"
      ]
     },
     "metadata": {},
     "output_type": "display_data"
    }
   ],
   "source": [
    "P_SGivenP = (P_S * P_PGivenS)/P_P\n",
    "display(\"P(S|P)= \"+ str(P_SGivenP))"
   ]
  },
  {
   "cell_type": "code",
   "execution_count": null,
   "metadata": {},
   "outputs": [],
   "source": []
  }
 ],
 "metadata": {
  "kernelspec": {
   "display_name": "Python 3",
   "language": "python",
   "name": "python3"
  },
  "language_info": {
   "codemirror_mode": {
    "name": "ipython",
    "version": 3
   },
   "file_extension": ".py",
   "mimetype": "text/x-python",
   "name": "python",
   "nbconvert_exporter": "python",
   "pygments_lexer": "ipython3",
   "version": "3.7.4"
  }
 },
 "nbformat": 4,
 "nbformat_minor": 4
}
