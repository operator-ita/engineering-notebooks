{
 "cells": [
  {
   "cell_type": "markdown",
   "metadata": {},
   "source": [
    "# Lec. 3: Independence "
   ]
  },
  {
   "cell_type": "markdown",
   "metadata": {},
   "source": [
    "## Unconditional Independence "
   ]
  },
  {
   "cell_type": "markdown",
   "metadata": {},
   "source": [
    "<p>Definition of Independence in <b>unconditional model:<\\b>  </p>\n",
    "$$\n",
    " P(A) =P(A \\cap B^{c}) \\cup P(A \\cap B)\n",
    "$$\n",
    "\n",
    "- Symmetric with respect to $A$ and $B$ \n",
    "- Impies $P(A|B)=P(A)$ and $P(B|A)=P(B)$\n",
    "- Applies even if $P(A)=0$ or $P(B)=0$\n",
    "- Occurrence of $A$ provides no new information about $B$ and viceversa"
   ]
  },
  {
   "cell_type": "markdown",
   "metadata": {},
   "source": [
    "### Independt of two events "
   ]
  },
  {
   "cell_type": "markdown",
   "metadata": {},
   "source": [
    "#### 3. Are two disjoints sets indepent?  "
   ]
  },
  {
   "cell_type": "markdown",
   "metadata": {},
   "source": [
    "<p> Let $(A \\cap B) = \\emptyset, $ $P(A)>0$ and $P(B)>0$. <\\p>\n",
    "<p> Since $ P(\\emptyset)=0 $, then $P(A \\cap B) = 0$ <\\p>\n",
    "<p> Since $P(A)>0$ and $P(B)>0$, then $ P(A) \\cdot P(B) \\gt 0$ <\\p>\n",
    "<p> Therefore, the set is <b>DEPENDENT<\\b> <\\p>\n"
   ]
  },
  {
   "cell_type": "markdown",
   "metadata": {},
   "source": [
    "Axiom:\n",
    "If a set is disjoint  $(A \\cap B) = \\emptyset$ and $P(A)>0$ and $P(B)>0$. Then, $A$ and $B$ are DEPENDENT"
   ]
  },
  {
   "cell_type": "markdown",
   "metadata": {},
   "source": [
    "#### 4. Exercise: Independence of two events - I"
   ]
  },
  {
   "cell_type": "markdown",
   "metadata": {},
   "source": [
    "We have a peculiar coin. When tossed twice, the first toss results in Heads with probability  1/2 . However, the second toss always yields the same result as the first toss. Thus, the only possible outcomes for a sequence of 2 tosses are  ***HH***  and  ***TT*** , and both have equal probabilities. Are the two events \n",
    "<p><b> A={Heads in the first toss}</b>  and </p> \n",
    "<p><b> B={Heads in the second toss}</b>  independent? </p>"
   ]
  },
  {
   "cell_type": "markdown",
   "metadata": {},
   "source": [
    "<p> Intuitively, the occurrence of event  A  gives us information on whether event  B  will occur, and therefore the two events are dependent.</p>\n",
    "\n",
    "$$ P(A) = P(B) = P(A \\cap B) = 1/2$$ so\n",
    "\n",
    "$$ P(A \\cap B ) \\neq P(A)P(B) $$"
   ]
  },
  {
   "cell_type": "markdown",
   "metadata": {},
   "source": [
    "#### 5. Exercise: Independence of two events - II"
   ]
  },
  {
   "cell_type": "markdown",
   "metadata": {},
   "source": [
    "Let  $A$  be an event, a subset of the sample space  $Ω$ . Are  $A$  and  $Ω$  independent?"
   ]
  },
  {
   "cell_type": "markdown",
   "metadata": {},
   "source": [
    "Intuitively,  $P(A)$  represents our beliefs about the likelihood that  $A$  will occur. If we are told that  $Ω$  occurred, this does not give us any new information; we already knew that  $Ω$  is certain to occur. For this reason,  $P(A∣Ω)=P(A)$ .\n",
    "\n",
    "$$\n",
    "P(A∩Ω)=P(A)=P(A)⋅1=P(A)⋅P(Ω) .\n",
    "$$"
   ]
  },
  {
   "cell_type": "markdown",
   "metadata": {},
   "source": [
    "#### 6. Exercise: Independence of two events - III "
   ]
  },
  {
   "cell_type": "markdown",
   "metadata": {},
   "source": [
    "When is an event  $A$  independent of itself?"
   ]
  },
  {
   "cell_type": "markdown",
   "metadata": {},
   "source": [
    "$$\n",
    "P(A∩A)= P(A)= P(A)⋅P(A) = P(A)^{2}. \n",
    "$$ \n",
    "\n",
    "And this happens if and only if  $P(A)$  is either  $0$  or  $1$ ."
   ]
  },
  {
   "cell_type": "markdown",
   "metadata": {},
   "source": [
    "##  Independence of event complements"
   ]
  },
  {
   "cell_type": "markdown",
   "metadata": {},
   "source": [
    "<p>Axiom of independence: </p>\n",
    "<p> If $A$ and $B$ are indepentent, then $A$ and $B^{C}$ are independent</p> \n",
    "<p> Intuition: the occurrence of A tells you nothing about B, and therefore tells you nothing about B complement either. </p>\n",
    "$$\n",
    " P(A \\cap B^{C} ) = P(A) \\cdot P(B^{C})\n",
    "$$"
   ]
  },
  {
   "cell_type": "markdown",
   "metadata": {},
   "source": [
    "Fromal proof: \n",
    "$$ (A) =(A \\cap B^{c}) \\cup (A \\cap B)$$ \n",
    "$$ P(A) =P(A \\cap B^{c}) + P(A \\cap B) $$ \n",
    "Since, \n",
    "$$  P(A \\cap B) =P(A) \\cdot P(B) $$\n",
    "Therefore, \n",
    "$$ P(A) =P(A \\cap B^{c}) + P(A) P(B) $$\n",
    "$$ P(A \\cap B^{c}) = P(A) - P(A) P(B) $$\n",
    "$$ P(A \\cap B^{c}) = P(A) [1 - P(B)] $$\n",
    "$$ P(A \\cap B^{c}) = P(A) P(B^{c}) $$"
   ]
  },
  {
   "cell_type": "markdown",
   "metadata": {},
   "source": [
    "#### 8. Exercise: Independence of event complements"
   ]
  },
  {
   "cell_type": "markdown",
   "metadata": {},
   "source": [
    "Suppose that  $A$ and  $B$  are independent events. Are  $A^{c}$  and  $B^{c}$  independent?"
   ]
  },
  {
   "cell_type": "markdown",
   "metadata": {},
   "source": [
    "We saw in the previous segment that for any 2 generic events  E1  and  E2 , independence of  E1  and  E2  implies independence of  E1  and  Ec2 . In the case of this particular problem, we can apply this result with  E1=A  and  E2=B  to conclude that since  A  and  B  are assumed to be independent, then  A  and  Bc  are also independent.\n",
    "\n",
    "Independence is symmetric, so  A  and  Bc  being independent is the same as  Bc  and  A  being independent. If we now reuse the generic result with  E1=Bc  and  E2=A , we can conclude that  Bc  and  Ac  are also independent, which by symmetry is the same as  Ac  and  Bc  being independent.\n",
    "\n",
    "To summarize:\n",
    "A  and  B  independent  ⇒   A  and  Bc  independent  ⇒   Bc  and  A  independent  ⇒   Bc  and  Ac  independent  ⇒   Ac  and  Bc  independent"
   ]
  },
  {
   "cell_type": "markdown",
   "metadata": {},
   "source": [
    "Suppose that  $A$ and  $B$  are independent events\n",
    "$$ P(A \\cap B^{c}) = P(A) P(B^{c}) $$ \n",
    "From the previous example \n",
    "$$ P(A \\cap B^{c}) = P(A) P(B^{c}) $$\n",
    "Since indepent is symmetric \n",
    "$$ P(A^{c} \\cap B) = P(A^{c}) P(B) $$\n",
    "Use the generic independ sets \n",
    "$$ P(E1 \\cap E2) = P(E1) \\cdot P(E2) $$\n",
    "$$ P(E1 \\cap E2^{c}) = P(E1) \\cdot P(E2^{c}) $$\n",
    "Let $E1 = B^{c}$ and $ E2=A$. Therefore, \n",
    "$$ P(B^{c} \\cap A^{c}) = P(B^{c}) \\cdot P(A^{c}) $$\n"
   ]
  },
  {
   "cell_type": "markdown",
   "metadata": {},
   "source": [
    "## Conditional Independence  "
   ]
  },
  {
   "cell_type": "markdown",
   "metadata": {},
   "source": [
    "Definition: Condition indipendence, given $C$, is defined as indipendence under the propability law \n",
    "$$ P(\\cdot|C)$$\n",
    "\n",
    "- Unconditional indipendence doesn't impliy conditional independence (Because in $C$ the subset $A$ and $B$ may be disjoint, and therefore, dependence)   \n"
   ]
  },
  {
   "cell_type": "markdown",
   "metadata": {},
   "source": [
    "Example:\n",
    "$$\n",
    "P(A\\cap B | C) = P(A|C)P(B|C)\n",
    "$$"
   ]
  },
  {
   "cell_type": "markdown",
   "metadata": {},
   "source": [
    "#### 10. Exercise: Conditional independence"
   ]
  },
  {
   "cell_type": "markdown",
   "metadata": {},
   "source": [
    "Suppose that  $A$  and  $B$  are conditionally independent given  $C$ . Suppose that  $P(C)>0$  and  $P(C^{c})>0$.\n",
    "\n",
    "<p> 1. Are  $A$  and  $B^{c}$  guaranteed to be conditionally independent given  $C$ ? </p>\n",
    "<p> We have seen that in any probability model, independence of  A  and  B  implies independence of  A  and  Bc . The conditional model (given  C ) is just another probability model, so this property remains true. </p>\n",
    "\n",
    "<p> 2. Are  $A$  and  $B$  guaranteed to be conditionally independent given  $C^{c}$ ? </p> \n",
    "<p>This may be true in some special cases, e.g., if  A  and  B  both have zero probability. However, it is in general false. Suppose, for example, that events  A  and  B  have nonempty intersection inside  C , and are conditionally independent, but have empty intersection inside   $C^{c}$ , which would make them dependent (given  $C^{c}$ )</p>."
   ]
  },
  {
   "cell_type": "code",
   "execution_count": null,
   "metadata": {},
   "outputs": [],
   "source": []
  }
 ],
 "metadata": {
  "kernelspec": {
   "display_name": "Python 3",
   "language": "python",
   "name": "python3"
  },
  "language_info": {
   "codemirror_mode": {
    "name": "ipython",
    "version": 3
   },
   "file_extension": ".py",
   "mimetype": "text/x-python",
   "name": "python",
   "nbconvert_exporter": "python",
   "pygments_lexer": "ipython3",
   "version": "3.7.4"
  }
 },
 "nbformat": 4,
 "nbformat_minor": 4
}
