{
 "cells": [
  {
   "cell_type": "markdown",
   "metadata": {},
   "source": [
    "# Introduction to Control System Design – A First Look"
   ]
  },
  {
   "cell_type": "markdown",
   "metadata": {},
   "source": [
    "MIT 6.302.0x"
   ]
  },
  {
   "cell_type": "markdown",
   "metadata": {},
   "source": [
    "## First Order Systems and Proportional Control "
   ]
  },
  {
   "cell_type": "markdown",
   "metadata": {},
   "source": [
    "## The Natural Frequency in First Order LDEs"
   ]
  },
  {
   "cell_type": "code",
   "execution_count": 44,
   "metadata": {},
   "outputs": [],
   "source": [
    "def LDEH1 (factor, y0, i): \n",
    "    return factor**i * y0"
   ]
  },
  {
   "cell_type": "code",
   "execution_count": 45,
   "metadata": {},
   "outputs": [],
   "source": [
    "import matplotlib.pyplot as plt\n",
    "import numpy as np"
   ]
  },
  {
   "cell_type": "code",
   "execution_count": 46,
   "metadata": {},
   "outputs": [
    {
     "data": {
      "image/png": "[encoded data removed]",
      "text/plain": [
       "<Figure size 432x288 with 1 Axes>"
      ]
     },
     "metadata": {
      "needs_background": "light"
     },
     "output_type": "display_data"
    },
    {
     "data": {
      "image/png": "[encoded data removed]",
      "text/plain": [
       "<Figure size 432x288 with 1 Axes>"
      ]
     },
     "metadata": {
      "needs_background": "light"
     },
     "output_type": "display_data"
    }
   ],
   "source": [
    "x = np.array(range(0,50,1))\n",
    "y1 = LDEH1(0.5,1,x)\n",
    "y2 = LDEH1(-4/3,1,x)\n",
    "y3 = LDEH1(-3/4,1,x)\n",
    "\n",
    "plt.title(r\"$ \\lambda = -4/3  $\")\n",
    "plt.stem(x, y2, 'r',  use_line_collection = True)\n",
    "plt.show() \n",
    "\n",
    "plt.title(r\"$ \\lambda = -3/4  $\")\n",
    "plt.stem(x, y3, 'b', use_line_collection = True)\n",
    "plt.show() "
   ]
  },
  {
   "cell_type": "markdown",
   "metadata": {},
   "source": [
    "### Exercise of Interest "
   ]
  },
  {
   "cell_type": "markdown",
   "metadata": {},
   "source": [
    "Suppose the bank paid 12 % per year, but compounded that interest monthly. That is, suppose 1 % interest was added to your account every month. Then how much would you have after 30 years and after 60 years if you started with $100? A) After 30 years, B) After 60 years"
   ]
  },
  {
   "cell_type": "markdown",
   "metadata": {},
   "source": [
    "$ y[n] = y[n-1] + 0.01y[n-1] = 1.01 y[n-1]$"
   ]
  },
  {
   "cell_type": "code",
   "execution_count": 55,
   "metadata": {},
   "outputs": [
    {
     "data": {
      "text/plain": [
       "'A) For 30 years 3594.9641327685035'"
      ]
     },
     "metadata": {},
     "output_type": "display_data"
    }
   ],
   "source": [
    "display('A) For 30 years ' +  str(LDEH1(1.01,100,12*30))) "
   ]
  },
  {
   "cell_type": "code",
   "execution_count": 57,
   "metadata": {},
   "outputs": [
    {
     "data": {
      "text/plain": [
       "'B) For 60 years 129237.67115891998'"
      ]
     },
     "metadata": {},
     "output_type": "display_data"
    }
   ],
   "source": [
    "display('B) For 60 years ' +  str(LDEH1(1.01,100,12*60))) "
   ]
  },
  {
   "cell_type": "markdown",
   "metadata": {},
   "source": [
    "### 1st-Order LDE from values "
   ]
  },
  {
   "cell_type": "markdown",
   "metadata": {},
   "source": [
    "If $y[10]=3$ and $y[11]=2$, determine $λ$ and $y[0]$. "
   ]
  },
  {
   "cell_type": "markdown",
   "metadata": {},
   "source": [
    "$$y[10]= y[0] \\lambda^{10} = 3 $$ \n",
    "$$y[11]= y[0] \\lambda^{11} = 2 $$"
   ]
  },
  {
   "cell_type": "markdown",
   "metadata": {},
   "source": [
    "Dividing (2) and (1), $ \\lambda = 2/3$, $ y[0] = (2/\\lambda^{11}) $"
   ]
  },
  {
   "cell_type": "code",
   "execution_count": 68,
   "metadata": {},
   "outputs": [
    {
     "data": {
      "text/plain": [
       "'λ =  0.6666666666666666'"
      ]
     },
     "metadata": {},
     "output_type": "display_data"
    },
    {
     "data": {
      "text/plain": [
       "'y0 = 172.9951171875001'"
      ]
     },
     "metadata": {},
     "output_type": "display_data"
    }
   ],
   "source": [
    "factor = 2/3 \n",
    "y0 = 2/(factor**11)\n",
    "display(r'λ =  ' + str(factor) )\n",
    "display(r'y0 = ' + str(y0) )"
   ]
  },
  {
   "cell_type": "code",
   "execution_count": 61,
   "metadata": {},
   "outputs": [
    {
     "data": {
      "text/plain": [
       "3.0000000000000004"
      ]
     },
     "metadata": {},
     "output_type": "display_data"
    },
    {
     "data": {
      "text/plain": [
       "2.0"
      ]
     },
     "metadata": {},
     "output_type": "display_data"
    }
   ],
   "source": [
    "display( LDEH1(factor, y0, 10) ) \n",
    "display( LDEH1(factor, y0, 11) )"
   ]
  },
  {
   "cell_type": "markdown",
   "metadata": {},
   "source": [
    "### Signs in 1st-Order LDEs "
   ]
  },
  {
   "cell_type": "markdown",
   "metadata": {},
   "source": [
    "If $y[9]=18$ and $y[11]=2$, determine two possible sets of values for $λ$ and $y[0]$.  "
   ]
  },
  {
   "cell_type": "code",
   "execution_count": 72,
   "metadata": {},
   "outputs": [
    {
     "data": {
      "text/plain": [
       "'λ =  0.3333333333333333'"
      ]
     },
     "metadata": {},
     "output_type": "display_data"
    },
    {
     "data": {
      "text/plain": [
       "'y0 = 354294.00000000023'"
      ]
     },
     "metadata": {},
     "output_type": "display_data"
    },
    {
     "data": {
      "text/plain": [
       "'λ =  -0.3333333333333333'"
      ]
     },
     "metadata": {},
     "output_type": "display_data"
    },
    {
     "data": {
      "text/plain": [
       "'y0 = -354294.00000000023'"
      ]
     },
     "metadata": {},
     "output_type": "display_data"
    }
   ],
   "source": [
    "factor = np.sqrt(2/18) \n",
    "y0 = 2/(factor**11)\n",
    "display(r'λ =  ' + str(factor) )\n",
    "display(r'y0 = ' + str(y0) )\n",
    "display(r'λ =  ' + str(-factor) )\n",
    "display(r'y0 = ' + str(-y0) )"
   ]
  },
  {
   "cell_type": "code",
   "execution_count": 71,
   "metadata": {},
   "outputs": [
    {
     "data": {
      "text/plain": [
       "18.000000000000004"
      ]
     },
     "metadata": {},
     "output_type": "display_data"
    },
    {
     "data": {
      "text/plain": [
       "2.0"
      ]
     },
     "metadata": {},
     "output_type": "display_data"
    }
   ],
   "source": [
    "display( LDEH1(factor, y0, 9) ) \n",
    "display( LDEH1(factor, y0, 11) )"
   ]
  },
  {
   "cell_type": "markdown",
   "metadata": {},
   "source": [
    "### Even-odd in signed 1st-Order LDEs "
   ]
  },
  {
   "cell_type": "markdown",
   "metadata": {},
   "source": [
    "If $y[10]=18$ and $y[12]=2$, are there still two possible values for $λ$ and $y[0]$ ?  "
   ]
  },
  {
   "cell_type": "code",
   "execution_count": 77,
   "metadata": {},
   "outputs": [
    {
     "data": {
      "text/plain": [
       "'λ =  0.3333333333333333'"
      ]
     },
     "metadata": {},
     "output_type": "display_data"
    },
    {
     "data": {
      "text/plain": [
       "'y0 = 1062882.0000000007'"
      ]
     },
     "metadata": {},
     "output_type": "display_data"
    }
   ],
   "source": [
    "factor = np.sqrt(2/18) \n",
    "y0 = 2/(factor**12)\n",
    "display(r'λ =  ' + str(factor) )\n",
    "display(r'y0 = ' + str(y0) )\n"
   ]
  },
  {
   "cell_type": "markdown",
   "metadata": {},
   "source": [
    "Note: $λ$ can still take on two values $\\lambda \\pm 1/3$, but $y[0]$ can only be one value"
   ]
  },
  {
   "cell_type": "code",
   "execution_count": null,
   "metadata": {},
   "outputs": [],
   "source": []
  }
 ],
 "metadata": {
  "kernelspec": {
   "display_name": "Python 3",
   "language": "python",
   "name": "python3"
  },
  "language_info": {
   "codemirror_mode": {
    "name": "ipython",
    "version": 3
   },
   "file_extension": ".py",
   "mimetype": "text/x-python",
   "name": "python",
   "nbconvert_exporter": "python",
   "pygments_lexer": "ipython3",
   "version": "3.8.3"
  }
 },
 "nbformat": 4,
 "nbformat_minor": 4
}
