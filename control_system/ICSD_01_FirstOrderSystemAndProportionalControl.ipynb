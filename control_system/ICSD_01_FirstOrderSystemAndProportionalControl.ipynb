{
 "cells": [
  {
   "cell_type": "markdown",
   "metadata": {},
   "source": [
    "# Introduction to Control System Design – A First Look"
   ]
  },
  {
   "cell_type": "markdown",
   "metadata": {},
   "source": [
    "From: MIT 6.302.0x at EDx"
   ]
  },
  {
   "cell_type": "markdown",
   "metadata": {},
   "source": [
    "## First Order Systems and Proportional Control "
   ]
  },
  {
   "cell_type": "markdown",
   "metadata": {},
   "source": [
    "A first-order homogenous LDE has the form\n",
    "$$ y[n] = \\lambda y[n−1] $$  \n",
    "and given an initial condition, $ y[0]$ , the solution to the LDE is given by\n",
    "$$ y[n]= \\lambda^{n} y[0]. $$ \n",
    "We refer to  $ \\lambda $  as the natural frequency for the difference equation, and for the first-order LDE, and ONLY for the first-order LDE, the natural frequency is equal to the LDE coefficient. For higher-order LDEs, this will not be the case.\n",
    "From the two bank balance examples, we saw that the natural frequency of a first-order LDE, or equivalently  λ , governs the evolution of its associated sequences. In particular,\n",
    "\n",
    "If  $ \\lambda>1 $ , the sequence grows monotonically and without bound, and we say that the first-order LDE is unstable.\n",
    "\n",
    "If  $ 0<\\lambda<1 $, the sequence decreases monotonically to zero, and we say that the first-order LDE is stable.\n",
    "\n",
    "If  $\\lambda=1$ , then the sequence does not change value with index, and the first-order LDE is neither stable nor unstable.\n",
    "\n",
    "When the natural frequency is negative, the associated sequence values oscillate between negative and positive. In addition, when the magnitude of the natural frequency is greater than one, the associated sequence values grow in magnitude, and when the magnitude of the natural frequency is less than one, the sequence values decay to zero. In particular,\n",
    "\n",
    "If  $\\lambda<−1$ , the associated sequences oscillate, the magnitude of their values grow without bound, and the first-order LDE is unstable,\n",
    "\n",
    "If  $−1<\\lambda<0 $, the associated sequences oscillate, their values decay to zero, and the first-order LDE is stable,\n",
    "\n",
    "If  $\\lambda=−1 $, the associated sequences oscillate, the magnitude of their values neither decay nor grow, and the first-order LDE is neither stable or unstable."
   ]
  },
  {
   "cell_type": "markdown",
   "metadata": {},
   "source": [
    "## The Natural Frequency in First Order LDEs"
   ]
  },
  {
   "cell_type": "code",
   "execution_count": 89,
   "metadata": {},
   "outputs": [],
   "source": [
    "from sympy.interactive import printing \n",
    "printing.init_printing(use_latex = True)\n",
    "import sympy as sp"
   ]
  },
  {
   "cell_type": "code",
   "execution_count": 2,
   "metadata": {},
   "outputs": [],
   "source": [
    "def LDEH1 (factor, y0, i): \n",
    "    return factor**i * y0"
   ]
  },
  {
   "cell_type": "code",
   "execution_count": 3,
   "metadata": {},
   "outputs": [],
   "source": [
    "import matplotlib.pyplot as plt\n",
    "import numpy as np"
   ]
  },
  {
   "cell_type": "code",
   "execution_count": 56,
   "metadata": {},
   "outputs": [
    {
     "data": {
      "image/png": "[encoded data removed]",
      "text/plain": [
       "<Figure size 792x576 with 6 Axes>"
      ]
     },
     "metadata": {
      "needs_background": "light"
     },
     "output_type": "display_data"
    }
   ],
   "source": [
    "fig = plt.figure(figsize=(11,8))\n",
    "fig.subplots_adjust(hspace=0.2, wspace=0.5)\n",
    "\n",
    "x = np.array(range(0,50,1))\n",
    "y2 = LDEH1(0.5,1,x)\n",
    "y1 = LDEH1(1.1,1,x)\n",
    "y3 = LDEH1(-4/3,1,x)\n",
    "y4 = LDEH1(-3/4,1,x)\n",
    "y5 = LDEH1(1,1,x)\n",
    "y6 = LDEH1(-1,1,x)\n",
    "\n",
    "plt.subplot(2, 3, 1)\n",
    "plt.title(f\"$ \\lambda > 1 $\")\n",
    "plt.stem(x, y1, 'r',  use_line_collection = True)\n",
    "\n",
    "plt.subplot(2, 3, 2)\n",
    "plt.title(r\"$ 1 > \\lambda > 0 $\")\n",
    "plt.stem(x, y2, 'r',  use_line_collection = True)\n",
    "\n",
    "plt.subplot(2, 3, 3)\n",
    "plt.title(r\"$ \\lambda < -1 $\")\n",
    "plt.stem(x, y3, 'r',  use_line_collection = True)\n",
    "\n",
    "plt.subplot(2, 3, 4)\n",
    "plt.title(r\"$ 0 < \\lambda < -1  $\")\n",
    "plt.stem(x, y4, 'b', use_line_collection = True)\n",
    "\n",
    "plt.subplot(2, 3, 5)\n",
    "plt.title(r\"$ 0 < \\lambda = 1  $\")\n",
    "plt.stem(x, y5, 'b', use_line_collection = True)\n",
    "\n",
    "plt.subplot(2, 3, 6)\n",
    "plt.title(r\"$ 0 < \\lambda = -1  $\")\n",
    "plt.stem(x, y6, 'b', use_line_collection = True)\n",
    "\n",
    "plt.show() "
   ]
  },
  {
   "cell_type": "markdown",
   "metadata": {},
   "source": [
    "### Exercise of Interest "
   ]
  },
  {
   "cell_type": "markdown",
   "metadata": {},
   "source": [
    "Suppose the bank paid 12 % per year, but compounded that interest monthly. That is, suppose 1 % interest was added to your account every month. Then how much would you have after 30 years and after 60 years if you started with $100? A) After 30 years, B) After 60 years"
   ]
  },
  {
   "cell_type": "markdown",
   "metadata": {},
   "source": [
    "$ y[n] = y[n-1] + 0.01y[n-1] = 1.01 y[n-1]$"
   ]
  },
  {
   "cell_type": "code",
   "execution_count": 5,
   "metadata": {},
   "outputs": [
    {
     "data": {
      "text/plain": [
       "'A) For 30 years 3594.9641327685035'"
      ]
     },
     "metadata": {},
     "output_type": "display_data"
    }
   ],
   "source": [
    "display('A) For 30 years ' +  str(LDEH1(1.01,100,12*30))) "
   ]
  },
  {
   "cell_type": "code",
   "execution_count": 6,
   "metadata": {},
   "outputs": [
    {
     "data": {
      "text/plain": [
       "'B) For 60 years 129237.67115891998'"
      ]
     },
     "metadata": {},
     "output_type": "display_data"
    }
   ],
   "source": [
    "display('B) For 60 years ' +  str(LDEH1(1.01,100,12*60))) "
   ]
  },
  {
   "cell_type": "markdown",
   "metadata": {},
   "source": [
    "### 1st-Order LDE from values "
   ]
  },
  {
   "cell_type": "markdown",
   "metadata": {},
   "source": [
    "If $y[10]=3$ and $y[11]=2$, determine $\\lambda$ and $y[0]$. "
   ]
  },
  {
   "cell_type": "markdown",
   "metadata": {},
   "source": [
    "$$y[10]= y[0] \\lambda^{10} = 3 $$ \n",
    "$$y[11]= y[0] \\lambda^{11} = 2 $$"
   ]
  },
  {
   "cell_type": "markdown",
   "metadata": {},
   "source": [
    "Dividing (2) and (1), $ \\lambda = 2/3$, $ y[0] = (2/\\lambda^{11}) $"
   ]
  },
  {
   "cell_type": "code",
   "execution_count": 113,
   "metadata": {},
   "outputs": [
    {
     "data": {
      "text/plain": [
       "'λ_{0} = 0.6666666666666666'"
      ]
     },
     "metadata": {},
     "output_type": "display_data"
    },
    {
     "data": {
      "text/plain": [
       "'y0 = 172.9951171875001'"
      ]
     },
     "metadata": {},
     "output_type": "display_data"
    }
   ],
   "source": [
    "factor = 2/3 \n",
    "y0 = 2/(factor**11)\n",
    "display('λ_{0} = ' + str(factor) )\n",
    "display(r'y0 = ' + str(y0) )"
   ]
  },
  {
   "cell_type": "code",
   "execution_count": 8,
   "metadata": {},
   "outputs": [
    {
     "data": {
      "text/plain": [
       "3.0000000000000004"
      ]
     },
     "metadata": {},
     "output_type": "display_data"
    },
    {
     "data": {
      "text/plain": [
       "2.0"
      ]
     },
     "metadata": {},
     "output_type": "display_data"
    }
   ],
   "source": [
    "display( LDEH1(factor, y0, 10) ) \n",
    "display( LDEH1(factor, y0, 11) )"
   ]
  },
  {
   "cell_type": "markdown",
   "metadata": {},
   "source": [
    "### Signs in 1st-Order LDEs "
   ]
  },
  {
   "cell_type": "markdown",
   "metadata": {},
   "source": [
    "If $y[9]=18$ and $y[11]=2$, determine two possible sets of values for $\\lambda$ and $y[0]$.  "
   ]
  },
  {
   "cell_type": "code",
   "execution_count": 108,
   "metadata": {},
   "outputs": [
    {
     "data": {
      "text/plain": [
       "'λ_{1} =  0.3333333333333333'"
      ]
     },
     "metadata": {},
     "output_type": "display_data"
    },
    {
     "data": {
      "text/plain": [
       "'y0_{1} = 354294.00000000023'"
      ]
     },
     "metadata": {},
     "output_type": "display_data"
    },
    {
     "data": {
      "text/plain": [
       "'λ_{2} =  -0.3333333333333333'"
      ]
     },
     "metadata": {},
     "output_type": "display_data"
    },
    {
     "data": {
      "text/plain": [
       "'y0_{2} = -354294.00000000023'"
      ]
     },
     "metadata": {},
     "output_type": "display_data"
    }
   ],
   "source": [
    "factor = np.sqrt(2/18) \n",
    "y0 = 2/(factor**11)\n",
    "display('λ_{1} =  ' + str(factor) )\n",
    "display('y0_{1} = ' + str(y0) )\n",
    "display('λ_{2} =  ' + str(-factor) )\n",
    "display('y0_{2} = ' + str(-y0) )"
   ]
  },
  {
   "cell_type": "code",
   "execution_count": 10,
   "metadata": {},
   "outputs": [
    {
     "data": {
      "text/plain": [
       "18.000000000000004"
      ]
     },
     "metadata": {},
     "output_type": "display_data"
    },
    {
     "data": {
      "text/plain": [
       "2.0"
      ]
     },
     "metadata": {},
     "output_type": "display_data"
    }
   ],
   "source": [
    "display( LDEH1(factor, y0, 9) ) \n",
    "display( LDEH1(factor, y0, 11) )"
   ]
  },
  {
   "cell_type": "markdown",
   "metadata": {},
   "source": [
    "### Even-odd in signed 1st-Order LDEs "
   ]
  },
  {
   "cell_type": "markdown",
   "metadata": {},
   "source": [
    "If $y[10]=18$ and $y[12]=2$, are there still two possible values for $\\lambda$ and $y[0]$ ?  "
   ]
  },
  {
   "cell_type": "code",
   "execution_count": 110,
   "metadata": {},
   "outputs": [
    {
     "data": {
      "text/plain": [
       "'λ{1} = 0.3333333333333333'"
      ]
     },
     "metadata": {},
     "output_type": "display_data"
    },
    {
     "data": {
      "text/plain": [
       "'y0_{1} = 1062882.0000000007'"
      ]
     },
     "metadata": {},
     "output_type": "display_data"
    }
   ],
   "source": [
    "factor = np.sqrt(2/18) \n",
    "y0 = 2/(factor**12)\n",
    "display('λ_{1} = ' + str(factor) )\n",
    "display('y0_{1} = ' + str(y0) )\n"
   ]
  },
  {
   "cell_type": "markdown",
   "metadata": {},
   "source": [
    "Note: $\\lambda$ can still take on two values $\\lambda \\pm 1/3$, but $y[0]$ can only be one value"
   ]
  }
 ],
 "metadata": {
  "kernelspec": {
   "display_name": "Python 3",
   "language": "python",
   "name": "python3"
  },
  "language_info": {
   "codemirror_mode": {
    "name": "ipython",
    "version": 3
   },
   "file_extension": ".py",
   "mimetype": "text/x-python",
   "name": "python",
   "nbconvert_exporter": "python",
   "pygments_lexer": "ipython3",
   "version": "3.7.4"
  }
 },
 "nbformat": 4,
 "nbformat_minor": 4
}
