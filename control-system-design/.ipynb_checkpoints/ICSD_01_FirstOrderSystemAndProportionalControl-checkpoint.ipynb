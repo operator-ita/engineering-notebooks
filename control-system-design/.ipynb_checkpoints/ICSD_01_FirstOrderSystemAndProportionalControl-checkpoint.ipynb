{
 "cells": [
  {
   "cell_type": "markdown",
   "metadata": {},
   "source": [
    "# Introduction to Control System Design – A First Look"
   ]
  },
  {
   "cell_type": "markdown",
   "metadata": {},
   "source": [
    "MIT 6.302.0x"
   ]
  },
  {
   "cell_type": "markdown",
   "metadata": {},
   "source": [
    "## First Order Systems and Proportional Control "
   ]
  },
  {
   "cell_type": "markdown",
   "metadata": {},
   "source": [
    "![image](img/twofeedbacks.png)"
   ]
  },
  {
   "cell_type": "markdown",
   "metadata": {},
   "source": [
    "- Control on a system can be **feed-forward**, **feedback**. \n",
    "    - feed-forward use predictive models e.g. kicking a ball to a goal (The ball arrives at the goal because you determined the right way to kick it, not because you corrected its trajectory in midflight)\n",
    "    - feedback controller changes the control variable on the fly but have some trade-offs. \n",
    "    - most modern controllers do not rely entirely on feedback, but use combinations of feed-forward and feedback control.\n",
    "- Elements in a  block diagram: \n",
    "    - the **plant** is a combination of what is being controlled (the process) and the instrument that changes the process behavior (actuador). \n",
    "        - For example, the process could be vehicle cruising speed, or camera focus, and the associated actuator could be the car engine in a cruise control system, or the lens-moving motor-and-gears in an camera autofocusing system\n",
    "    - the **controller** directs the actuator based on the input.\n",
    "        - For example, if the input is a desired room temperature, then the controller determines when to start and stop the furnace so that the room stays at the desired temperature.\n",
    "    - the **sensor block** in the feedback control provides the state of the plant to the controller and if the state is perturbed, the controller can easily adapt its directions to correct the state. In feed-forward control, there is no state monitoring. The controller sends instructions to the actuator by following a recipe\n",
    "        - For example, if one opens a window in a room with a feedback-based temperature controller, the subsequent drop in temperature will be sensed by the controller, and the furnace will turn on to compensate. \n",
    "    "
   ]
  },
  {
   "cell_type": "markdown",
   "metadata": {},
   "source": []
  },
  {
   "cell_type": "code",
   "execution_count": null,
   "metadata": {},
   "outputs": [],
   "source": []
  }
 ],
 "metadata": {
  "kernelspec": {
   "display_name": "Python 3",
   "language": "python",
   "name": "python3"
  },
  "language_info": {
   "codemirror_mode": {
    "name": "ipython",
    "version": 3
   },
   "file_extension": ".py",
   "mimetype": "text/x-python",
   "name": "python",
   "nbconvert_exporter": "python",
   "pygments_lexer": "ipython3",
   "version": "3.7.4"
  }
 },
 "nbformat": 4,
 "nbformat_minor": 4
}
